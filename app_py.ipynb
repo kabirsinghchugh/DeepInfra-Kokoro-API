{
  "cells": [
    {
      "cell_type": "markdown",
      "metadata": {
        "id": "view-in-github",
        "colab_type": "text"
      },
      "source": [
        "<a href=\"https://colab.research.google.com/github/kabirsinghchugh/DeepInfra-Kokoro-API/blob/main/app_py.ipynb\" target=\"_parent\"><img src=\"https://colab.research.google.com/assets/colab-badge.svg\" alt=\"Open In Colab\"/></a>"
      ]
    },
    {
      "cell_type": "code",
      "source": [
        "import os\n",
        "import requests\n",
        "from flask import Flask, render_template, request, Response\n",
        "from dotenv import load_dotenv\n",
        "\n",
        "# Load environment variables from a .env file\n",
        "load_dotenv()\n",
        "\n",
        "app = Flask(__name__)\n",
        "\n",
        "# Retrieve the API key from environment variables\n",
        "DEEPINFRA_API_KEY = os.getenv(\"DEEPINFRA_API_KEY\")\n",
        "API_URL = \"https://api.deepinfra.com/v1/openai/audio/speech\"\n",
        "\n",
        "@app.route('/')\n",
        "def index():\n",
        "    \"\"\"\n",
        "    Renders the main page of the application.\n",
        "    \"\"\"\n",
        "    return render_template('index.html')\n",
        "\n",
        "@app.route('/synthesize', methods=['POST'])\n",
        "def synthesize():\n",
        "    \"\"\"\n",
        "    Handles the text-to-speech synthesis request.\n",
        "    \"\"\"\n",
        "    if not DEEPINFRA_API_KEY or DEEPINFRA_API_KEY == 'your_deepinfra_api_key_here':\n",
        "        return Response(\"Error: DEEPINFRA_API_KEY not configured.\", status=500, mimetype='text/plain')\n",
        "\n",
        "    try:\n",
        "        # Get text from the POST request form data\n",
        "        text_to_synthesize = request.form.get('text')\n",
        "        if not text_to_synthesize:\n",
        "            return Response(\"Error: No text provided for synthesis.\", status=400, mimetype='text/plain')\n",
        "\n",
        "        # Set up the headers for the DeepInfra API request\n",
        "        headers = {\n",
        "            \"Authorization\": f\"Bearer {DEEPINFRA_API_KEY}\",\n",
        "            \"Content-Type\": \"application/json\",\n",
        "        }\n",
        "\n",
        "        # Set up the payload in the OpenAI-compatible format\n",
        "        payload = {\n",
        "            \"model\": \"hexgrad/kokoro-tts\",\n",
        "            \"input\": text_to_synthesize,\n",
        "            \"voice\": \"kokoro\"\n",
        "        }\n",
        "\n",
        "        # Make the POST request to the DeepInfra API\n",
        "        response = requests.post(API_URL, headers=headers, json=payload)\n",
        "\n",
        "        # Check if the request was successful\n",
        "        response.raise_for_status()\n",
        "\n",
        "        # Return the audio data with the correct MIME type\n",
        "        return Response(response.content, mimetype=\"audio/mpeg\")\n",
        "\n",
        "    except requests.exceptions.RequestException as e:\n",
        "        # Handle potential network errors or API errors\n",
        "        error_message = f\"API request failed: {e}\"\n",
        "        # Log the error for debugging\n",
        "        print(error_message)\n",
        "        # Return a generic error message to the user\n",
        "        return Response(f\"Error synthesizing audio. Please check the server logs. Status code: {e.response.status_code if e.response else 'N/A'}\", status=500, mimetype='text/plain')\n",
        "    except Exception as e:\n",
        "        # Handle other unexpected errors\n",
        "        print(f\"An unexpected error occurred: {e}\")\n",
        "        return Response(\"An unexpected error occurred.\", status=500, mimetype='text/plain')\n",
        "\n",
        "if __name__ == '__main__':\n",
        "    # Runs the Flask application\n",
        "    app.run(debug=True)"
      ],
      "outputs": [],
      "execution_count": null,
      "metadata": {
        "id": "Xorx0NACOPYh"
      }
    }
  ],
  "metadata": {
    "colab": {
      "provenance": [],
      "include_colab_link": true
    },
    "kernelspec": {
      "display_name": "Python 3",
      "name": "python3"
    }
  },
  "nbformat": 4,
  "nbformat_minor": 0
}